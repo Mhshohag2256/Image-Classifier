{
 "cells": [
  {
   "cell_type": "code",
   "execution_count": 1,
   "metadata": {},
   "outputs": [
    {
     "name": "stderr",
     "output_type": "stream",
     "text": [
      "Using TensorFlow backend.\n"
     ]
    }
   ],
   "source": [
    "import keras\n",
    "from keras.datasets import cifar10\n",
    "from keras.models import Sequential\n",
    "from keras.layers import Dense, Dropout, Flatten, Conv2D, MaxPooling2D\n",
    "from pathlib import Path\n",
    "from keras.preprocessing import image\n",
    "import numpy as np\n",
    "import tensorflow as tf\n",
    "from keras.layers import *\n",
    "\n"
   ]
  },
  {
   "cell_type": "code",
   "execution_count": 2,
   "metadata": {},
   "outputs": [],
   "source": [
    "RUN_NAME = \"run 1 with 512 nodes\"\n",
    "logger = keras.callbacks.TensorBoard(\n",
    "    log_dir='logs/{}'.format(RUN_NAME),\n",
    "    histogram_freq=5,\n",
    "    write_graph=True\n",
    ")"
   ]
  },
  {
   "cell_type": "code",
   "execution_count": 4,
   "metadata": {},
   "outputs": [],
   "source": [
    "#loading the cifar10 train and test data\n",
    "(x_train, y_train), (x_test, y_test) = cifar10.load_data()"
   ]
  },
  {
   "cell_type": "code",
   "execution_count": 5,
   "metadata": {},
   "outputs": [
    {
     "name": "stdout",
     "output_type": "stream",
     "text": [
      "\n",
      "shape of images: (50000, 32, 32, 3)\n",
      "\n",
      "length of labels 50000\n",
      "\n",
      "labels: [[6]\n",
      " [9]\n",
      " [9]\n",
      " ...\n",
      " [9]\n",
      " [1]\n",
      " [1]]\n",
      "\n",
      "number of training cases for each category\n",
      "0 5000\n",
      "1 5000\n",
      "2 5000\n",
      "3 5000\n",
      "4 5000\n",
      "5 5000\n",
      "6 5000\n",
      "7 5000\n",
      "8 5000\n",
      "9 5000\n"
     ]
    }
   ],
   "source": [
    "# examine at the training data\n",
    "\n",
    "print('\\nshape of images:',x_train.shape)\n",
    "print('\\nlength of labels',len(y_train))\n",
    "print('\\nlabels:',y_train)\n",
    "\n",
    "dist_train = np.zeros(10, dtype=np.int16)\n",
    "for j in range(len(y_train)):\n",
    "  dist_train[y_train[j]] += 1\n",
    " \n",
    "print ('\\nnumber of training cases for each category')\n",
    "for i in range(10):\n",
    "  print (i, dist_train[i])"
   ]
  },
  {
   "cell_type": "code",
   "execution_count": null,
   "metadata": {},
   "outputs": [],
   "source": []
  },
  {
   "cell_type": "code",
   "execution_count": null,
   "metadata": {},
   "outputs": [],
   "source": []
  },
  {
   "cell_type": "code",
   "execution_count": 6,
   "metadata": {},
   "outputs": [],
   "source": [
    "# Normalize data set\n",
    "x_train = x_train.astype('float32')\n",
    "x_test = x_test.astype('float32')\n",
    "x_train /= 255\n",
    "x_test /= 255"
   ]
  },
  {
   "cell_type": "code",
   "execution_count": 7,
   "metadata": {},
   "outputs": [],
   "source": [
    "#convert to binary with keras built in function\n",
    "y_train = keras.utils.to_categorical(y_train, 10)\n",
    "y_test = keras.utils.to_categorical(y_test, 10)"
   ]
  },
  {
   "cell_type": "markdown",
   "metadata": {},
   "source": [
    "# Creating Convolutional Cell Block"
   ]
  },
  {
   "cell_type": "code",
   "execution_count": 8,
   "metadata": {},
   "outputs": [
    {
     "name": "stdout",
     "output_type": "stream",
     "text": [
      "WARNING:tensorflow:From /opt/conda/lib/python3.7/site-packages/tensorflow_core/python/ops/resource_variable_ops.py:1630: calling BaseResourceVariable.__init__ (from tensorflow.python.ops.resource_variable_ops) with constraint is deprecated and will be removed in a future version.\n",
      "Instructions for updating:\n",
      "If using Keras pass *_constraint arguments to layers.\n",
      "WARNING:tensorflow:From /opt/conda/lib/python3.7/site-packages/keras/backend/tensorflow_backend.py:4070: The name tf.nn.max_pool is deprecated. Please use tf.nn.max_pool2d instead.\n",
      "\n"
     ]
    }
   ],
   "source": [
    "model = Sequential()\n",
    "\n",
    "model.add(Conv2D(32, (3, 3), padding='same', input_shape=(32, 32, 3), activation=\"relu\"))\n",
    "model.add(Conv2D(32, (3, 3), activation=\"relu\"))\n",
    "\n",
    "model.add(MaxPooling2D(pool_size=(2, 2)))\n",
    "model.add(Dropout(0.25))\n",
    "\n",
    "model.add(Conv2D(64, (3, 3), padding='same', activation=\"relu\"))\n",
    "model.add(Conv2D(64, (3, 3), activation=\"relu\"))\n",
    "\n",
    "model.add(MaxPooling2D(pool_size=(2, 2)))\n",
    "model.add(Dropout(0.25))\n",
    "\n",
    "model.add(Flatten())"
   ]
  },
  {
   "cell_type": "markdown",
   "metadata": {},
   "source": [
    "# Creating Densely Connected Cell Block"
   ]
  },
  {
   "cell_type": "code",
   "execution_count": 9,
   "metadata": {},
   "outputs": [],
   "source": [
    "model.add(Dense(512, activation=\"relu\"))\n",
    "model.add(Dropout(0.5))\n",
    "model.add(Dense(10, activation=\"softmax\"))"
   ]
  },
  {
   "cell_type": "code",
   "execution_count": 10,
   "metadata": {},
   "outputs": [
    {
     "name": "stdout",
     "output_type": "stream",
     "text": [
      "Model: \"sequential_1\"\n",
      "_________________________________________________________________\n",
      "Layer (type)                 Output Shape              Param #   \n",
      "=================================================================\n",
      "conv2d_1 (Conv2D)            (None, 32, 32, 32)        896       \n",
      "_________________________________________________________________\n",
      "conv2d_2 (Conv2D)            (None, 30, 30, 32)        9248      \n",
      "_________________________________________________________________\n",
      "max_pooling2d_1 (MaxPooling2 (None, 15, 15, 32)        0         \n",
      "_________________________________________________________________\n",
      "dropout_1 (Dropout)          (None, 15, 15, 32)        0         \n",
      "_________________________________________________________________\n",
      "conv2d_3 (Conv2D)            (None, 15, 15, 64)        18496     \n",
      "_________________________________________________________________\n",
      "conv2d_4 (Conv2D)            (None, 13, 13, 64)        36928     \n",
      "_________________________________________________________________\n",
      "max_pooling2d_2 (MaxPooling2 (None, 6, 6, 64)          0         \n",
      "_________________________________________________________________\n",
      "dropout_2 (Dropout)          (None, 6, 6, 64)          0         \n",
      "_________________________________________________________________\n",
      "flatten_1 (Flatten)          (None, 2304)              0         \n",
      "_________________________________________________________________\n",
      "dense_1 (Dense)              (None, 512)               1180160   \n",
      "_________________________________________________________________\n",
      "dropout_3 (Dropout)          (None, 512)               0         \n",
      "_________________________________________________________________\n",
      "dense_2 (Dense)              (None, 10)                5130      \n",
      "=================================================================\n",
      "Total params: 1,250,858\n",
      "Trainable params: 1,250,858\n",
      "Non-trainable params: 0\n",
      "_________________________________________________________________\n"
     ]
    }
   ],
   "source": [
    "model.summary()"
   ]
  },
  {
   "cell_type": "code",
   "execution_count": 11,
   "metadata": {},
   "outputs": [],
   "source": [
    "#compile the model\n",
    "model.compile(loss='categorical_crossentropy',optimizer='adam',metrics=['accuracy'])"
   ]
  },
  {
   "cell_type": "code",
   "execution_count": 12,
   "metadata": {},
   "outputs": [
    {
     "name": "stdout",
     "output_type": "stream",
     "text": [
      "WARNING:tensorflow:From /opt/conda/lib/python3.7/site-packages/keras/backend/tensorflow_backend.py:422: The name tf.global_variables is deprecated. Please use tf.compat.v1.global_variables instead.\n",
      "\n",
      "Train on 50000 samples, validate on 10000 samples\n",
      "Epoch 1/1\n",
      "50000/50000 [==============================] - 106s 2ms/step - loss: 1.5353 - accuracy: 0.4385 - val_loss: 1.1714 - val_accuracy: 0.5760\n"
     ]
    }
   ],
   "source": [
    "#train the model\n",
    "history=model.fit(x_train,y_train,batch_size=64,epochs=1,validation_data=(x_test, y_test),shuffle=True)\n"
   ]
  },
  {
   "cell_type": "code",
   "execution_count": 13,
   "metadata": {},
   "outputs": [
    {
     "name": "stdout",
     "output_type": "stream",
     "text": [
      "History :  {'val_loss': [1.1713790859222413], 'val_accuracy': [0.5759999752044678], 'loss': [1.5352760677337647], 'accuracy': [0.43852]}\n"
     ]
    }
   ],
   "source": [
    "print(\"History : \",history.history)"
   ]
  },
  {
   "cell_type": "code",
   "execution_count": 14,
   "metadata": {},
   "outputs": [
    {
     "name": "stdout",
     "output_type": "stream",
     "text": [
      "Train on 50000 samples, validate on 10000 samples\n",
      "Epoch 1/5\n",
      "50000/50000 [==============================] - 108s 2ms/step - loss: 1.1201 - accuracy: 0.6021 - val_loss: 0.9019 - val_accuracy: 0.6859\n",
      "Epoch 2/5\n",
      "50000/50000 [==============================] - 108s 2ms/step - loss: 0.9458 - accuracy: 0.6676 - val_loss: 0.8354 - val_accuracy: 0.7045\n",
      "Epoch 3/5\n",
      "50000/50000 [==============================] - 105s 2ms/step - loss: 0.8493 - accuracy: 0.7023 - val_loss: 0.7691 - val_accuracy: 0.7313\n",
      "Epoch 4/5\n",
      "50000/50000 [==============================] - 104s 2ms/step - loss: 0.7823 - accuracy: 0.7268 - val_loss: 0.7154 - val_accuracy: 0.7516\n",
      "Epoch 5/5\n",
      "50000/50000 [==============================] - 107s 2ms/step - loss: 0.7246 - accuracy: 0.7450 - val_loss: 0.6872 - val_accuracy: 0.7676\n"
     ]
    }
   ],
   "source": [
    "history=model.fit(x_train,y_train,batch_size=64,epochs=5,validation_data=(x_test, y_test),shuffle=True)"
   ]
  },
  {
   "cell_type": "code",
   "execution_count": 23,
   "metadata": {},
   "outputs": [
    {
     "name": "stdout",
     "output_type": "stream",
     "text": [
      "Train on 50000 samples, validate on 10000 samples\n",
      "WARNING:tensorflow:From /opt/conda/lib/python3.7/site-packages/keras/callbacks/tensorboard_v1.py:146: The name tf.summary.histogram is deprecated. Please use tf.compat.v1.summary.histogram instead.\n",
      "\n",
      "WARNING:tensorflow:From /opt/conda/lib/python3.7/site-packages/keras/callbacks/tensorboard_v1.py:200: The name tf.summary.merge_all is deprecated. Please use tf.compat.v1.summary.merge_all instead.\n",
      "\n",
      "WARNING:tensorflow:From /opt/conda/lib/python3.7/site-packages/keras/callbacks/tensorboard_v1.py:203: The name tf.summary.FileWriter is deprecated. Please use tf.compat.v1.summary.FileWriter instead.\n",
      "\n",
      "Epoch 1/15\n",
      "50000/50000 [==============================] - 106s 2ms/step - loss: 0.6838 - accuracy: 0.7605 - val_loss: 0.6897 - val_accuracy: 0.7597\n",
      "WARNING:tensorflow:From /opt/conda/lib/python3.7/site-packages/keras/callbacks/tensorboard_v1.py:343: The name tf.Summary is deprecated. Please use tf.compat.v1.Summary instead.\n",
      "\n",
      "Epoch 2/15\n",
      "50000/50000 [==============================] - 107s 2ms/step - loss: 0.6489 - accuracy: 0.7707 - val_loss: 0.6944 - val_accuracy: 0.7647\n",
      "Epoch 3/15\n",
      "50000/50000 [==============================] - 109s 2ms/step - loss: 0.6144 - accuracy: 0.7849 - val_loss: 0.6493 - val_accuracy: 0.7831\n",
      "Epoch 4/15\n",
      "50000/50000 [==============================] - 108s 2ms/step - loss: 0.5844 - accuracy: 0.7934 - val_loss: 0.6204 - val_accuracy: 0.7907\n",
      "Epoch 5/15\n",
      "50000/50000 [==============================] - 106s 2ms/step - loss: 0.5548 - accuracy: 0.8062 - val_loss: 0.6184 - val_accuracy: 0.7931\n",
      "Epoch 6/15\n",
      "50000/50000 [==============================] - 105s 2ms/step - loss: 0.5405 - accuracy: 0.8097 - val_loss: 0.6110 - val_accuracy: 0.7883\n",
      "Epoch 7/15\n",
      "50000/50000 [==============================] - 107s 2ms/step - loss: 0.5199 - accuracy: 0.8161 - val_loss: 0.6031 - val_accuracy: 0.7939\n",
      "Epoch 8/15\n",
      "50000/50000 [==============================] - 110s 2ms/step - loss: 0.4989 - accuracy: 0.8236 - val_loss: 0.6342 - val_accuracy: 0.7883\n",
      "Epoch 9/15\n",
      "50000/50000 [==============================] - 110s 2ms/step - loss: 0.4853 - accuracy: 0.8267 - val_loss: 0.6684 - val_accuracy: 0.7760\n",
      "Epoch 10/15\n",
      "50000/50000 [==============================] - 105s 2ms/step - loss: 0.4689 - accuracy: 0.8327 - val_loss: 0.6112 - val_accuracy: 0.7965\n",
      "Epoch 11/15\n",
      "50000/50000 [==============================] - 110s 2ms/step - loss: 0.4571 - accuracy: 0.8376 - val_loss: 0.6108 - val_accuracy: 0.7987\n",
      "Epoch 12/15\n",
      "50000/50000 [==============================] - 107s 2ms/step - loss: 0.4430 - accuracy: 0.8450 - val_loss: 0.6030 - val_accuracy: 0.7982\n",
      "Epoch 13/15\n",
      "50000/50000 [==============================] - 105s 2ms/step - loss: 0.4390 - accuracy: 0.8427 - val_loss: 0.6012 - val_accuracy: 0.7987\n",
      "Epoch 14/15\n",
      "50000/50000 [==============================] - 108s 2ms/step - loss: 0.4234 - accuracy: 0.8494 - val_loss: 0.5869 - val_accuracy: 0.8073\n",
      "Epoch 15/15\n",
      "50000/50000 [==============================] - 110s 2ms/step - loss: 0.4119 - accuracy: 0.8512 - val_loss: 0.6178 - val_accuracy: 0.8018\n"
     ]
    }
   ],
   "source": [
    "# train the model\n",
    "history=model.fit(x_train,y_train,batch_size=64,epochs=15,validation_data=(x_test, y_test),shuffle=True,callbacks=[logger])\n"
   ]
  },
  {
   "cell_type": "code",
   "execution_count": 24,
   "metadata": {},
   "outputs": [
    {
     "data": {
      "text/plain": [
       "<matplotlib.legend.Legend at 0x7f846f84d550>"
      ]
     },
     "execution_count": 24,
     "metadata": {},
     "output_type": "execute_result"
    },
    {
     "data": {
      "image/png": "[encoded data removed]",
      "text/plain": [
       "<Figure size 576x576 with 1 Axes>"
      ]
     },
     "metadata": {
      "needs_background": "light"
     },
     "output_type": "display_data"
    }
   ],
   "source": [
    "# plot the loss\n",
    "#took it from workshop\n",
    "import matplotlib.pyplot as plt\n",
    "%matplotlib inline\n",
    "\n",
    "plt.figure(figsize=(8,8))\n",
    "plt.plot(history.history['loss'], label='training loss', color='green')\n",
    "plt.title('Loss by Epoch')\n",
    "plt.xlabel('Epoch')\n",
    "plt.ylabel('Loss')\n",
    "plt.ylim([0.0, 2])\n",
    "plt.legend(loc='upper right')"
   ]
  },
  {
   "cell_type": "code",
   "execution_count": 25,
   "metadata": {},
   "outputs": [
    {
     "data": {
      "text/plain": [
       "<matplotlib.legend.Legend at 0x7f84d036d250>"
      ]
     },
     "execution_count": 25,
     "metadata": {},
     "output_type": "execute_result"
    },
    {
     "data": {
      "image/png": "[encoded data removed]",
      "text/plain": [
       "<Figure size 576x576 with 1 Axes>"
      ]
     },
     "metadata": {
      "needs_background": "light"
     },
     "output_type": "display_data"
    }
   ],
   "source": [
    "# plot the acccuracy\n",
    "#took it from workshop\n",
    "\n",
    "plt.figure(figsize=(8,8))\n",
    "plt.plot(history.history['accuracy'], label='training accuracy',color='blue')\n",
    "plt.plot(history.history['val_accuracy'], label = 'validation accuracy',color='red')\n",
    "plt.title('Accuracy by Epoch')\n",
    "plt.xlabel('Epoch')\n",
    "plt.ylabel('Accuracy')\n",
    "plt.ylim([0.2, 1.])\n",
    "plt.legend(loc='lower right')"
   ]
  },
  {
   "cell_type": "code",
   "execution_count": 26,
   "metadata": {},
   "outputs": [
    {
     "name": "stdout",
     "output_type": "stream",
     "text": [
      "10000/10000 [==============================] - 7s 711us/step\n",
      "\n",
      "test loss:  0.6177985698461532\n",
      "test acc:   0.801800012588501\n",
      "errors:   1981\n"
     ]
    }
   ],
   "source": [
    "#took it from the workshop\n",
    "#evaluation\n",
    "\n",
    "test_evaluation = model.evaluate(x_test, y_test)\n",
    "test_loss = test_evaluation[0]\n",
    "test_acc = test_evaluation[1]\n",
    "\n",
    "print ('\\ntest loss: ',test_loss)\n",
    "print ('test acc:  ', test_acc)\n",
    "print ('errors:  ', int(10000*(1-test_acc)))"
   ]
  },
  {
   "cell_type": "code",
   "execution_count": 27,
   "metadata": {},
   "outputs": [],
   "source": [
    "#save the trained network and weight\n",
    "model_save= model.to_json()\n",
    "file = Path(\"model_save.json\")\n",
    "file.write_text(model_save)\n",
    "model.save_weights(\"trained_model.h5\")"
   ]
  },
  {
   "cell_type": "code",
   "execution_count": 28,
   "metadata": {},
   "outputs": [],
   "source": [
    "class_labels = [\n",
    "    \"Plane\",\n",
    "    \"Car\",\n",
    "    \"Bird\",\n",
    "    \"Cat\",\n",
    "    \"Deer\",\n",
    "    \"Dog\",\n",
    "    \"Frog\",\n",
    "    \"Horse\",\n",
    "    \"Boat\",\n",
    "    \"Truck\"\n",
    "]"
   ]
  },
  {
   "cell_type": "code",
   "execution_count": 35,
   "metadata": {},
   "outputs": [
    {
     "data": {
      "image/png": "[encoded data removed]",
      "text/plain": [
       "<Figure size 432x288 with 1 Axes>"
      ]
     },
     "metadata": {
      "needs_background": "light"
     },
     "output_type": "display_data"
    }
   ],
   "source": [
    "#making a prediction\n",
    "img = image.load_img(\"tesla.jpg\", target_size=(32, 32))\n",
    "plt.imshow(img)\n",
    "plt.show()"
   ]
  },
  {
   "cell_type": "code",
   "execution_count": 36,
   "metadata": {},
   "outputs": [
    {
     "name": "stdout",
     "output_type": "stream",
     "text": [
      "This is image is a  Car 1.0\n"
     ]
    }
   ],
   "source": [
    "test1= image.img_to_array(img)\n",
    "test_image = np.expand_dims(test1, axis=0)\n",
    "result = model.predict(test_image)\n",
    "single_result = result[0]\n",
    "class_index = int(np.argmax(single_result))\n",
    "class_name = single_result[class_index]\n",
    "class_label = class_labels[class_index]\n",
    "print(\"This is image is a \",class_label, class_name)"
   ]
  },
  {
   "cell_type": "code",
   "execution_count": 37,
   "metadata": {},
   "outputs": [
    {
     "data": {
      "image/png": "[encoded data removed]",
      "text/plain": [
       "<Figure size 432x288 with 1 Axes>"
      ]
     },
     "metadata": {
      "needs_background": "light"
     },
     "output_type": "display_data"
    }
   ],
   "source": [
    "#making a prediction\n",
    "img = image.load_img(\"frog.jfif\", target_size=(32, 32))\n",
    "plt.imshow(img)\n",
    "plt.show()"
   ]
  },
  {
   "cell_type": "code",
   "execution_count": 38,
   "metadata": {},
   "outputs": [
    {
     "name": "stdout",
     "output_type": "stream",
     "text": [
      "This is image is a  Car 1.0\n"
     ]
    }
   ],
   "source": [
    "test1= image.img_to_array(img)\n",
    "test_image = np.expand_dims(test1, axis=0)\n",
    "result = model.predict(test_image)\n",
    "single_result = result[0]\n",
    "class_index = int(np.argmax(single_result))\n",
    "class_name = single_result[class_index]\n",
    "class_label = class_labels[class_index]\n",
    "print(\"This is image is a \",class_label, class_name)"
   ]
  },
  {
   "cell_type": "code",
   "execution_count": 48,
   "metadata": {},
   "outputs": [
    {
     "data": {
      "image/png": "[encoded data removed]",
      "text/plain": [
       "<Figure size 432x288 with 1 Axes>"
      ]
     },
     "metadata": {
      "needs_background": "light"
     },
     "output_type": "display_data"
    },
    {
     "name": "stdout",
     "output_type": "stream",
     "text": [
      "This is image is a  Frog 1.0\n"
     ]
    }
   ],
   "source": [
    "#making a prediction\n",
    "img = image.load_img(\"cat.jpg\", target_size=(32, 32))\n",
    "plt.imshow(img)\n",
    "plt.show()\n",
    "test1= image.img_to_array(img)\n",
    "test_image = np.expand_dims(test1, axis=0)\n",
    "result = model.predict(test_image)\n",
    "single_result = result[0]\n",
    "class_index = int(np.argmax(single_result))\n",
    "class_name = single_result[class_index]\n",
    "class_label = class_labels[class_index]\n",
    "print(\"This is image is a \",class_label, class_name)"
   ]
  },
  {
   "cell_type": "code",
   "execution_count": 51,
   "metadata": {},
   "outputs": [
    {
     "data": {
      "image/png": "[encoded data removed]",
      "text/plain": [
       "<Figure size 432x288 with 1 Axes>"
      ]
     },
     "metadata": {
      "needs_background": "light"
     },
     "output_type": "display_data"
    },
    {
     "name": "stdout",
     "output_type": "stream",
     "text": [
      "This is image is a  Truck 1.0\n"
     ]
    }
   ],
   "source": [
    "#making a prediction\n",
    "img = image.load_img(\"truck.jpg\", target_size=(32, 32))\n",
    "plt.imshow(img)\n",
    "plt.show()\n",
    "test1= image.img_to_array(img)\n",
    "test_image = np.expand_dims(test1, axis=0)\n",
    "result = model.predict(test_image)\n",
    "single_result = result[0]\n",
    "class_index = int(np.argmax(single_result))\n",
    "class_name = single_result[class_index]\n",
    "class_label = class_labels[class_index]\n",
    "print(\"This is image is a \",class_label, class_name)"
   ]
  },
  {
   "cell_type": "code",
   "execution_count": null,
   "metadata": {},
   "outputs": [
    {
     "name": "stdout",
     "output_type": "stream",
     "text": [
      "TensorBoard 1.15.0 at http://tensorflow:6006/ (Press CTRL+C to quit)\n"
     ]
    }
   ],
   "source": [
    "!tensorboard --logdir logs"
   ]
  },
  {
   "cell_type": "code",
   "execution_count": null,
   "metadata": {},
   "outputs": [],
   "source": []
  }
 ],
 "metadata": {
  "kernelspec": {
   "display_name": "Python 3",
   "language": "python",
   "name": "python3"
  },
  "language_info": {
   "codemirror_mode": {
    "name": "ipython",
    "version": 3
   },
   "file_extension": ".py",
   "mimetype": "text/x-python",
   "name": "python",
   "nbconvert_exporter": "python",
   "pygments_lexer": "ipython3",
   "version": "3.7.4"
  }
 },
 "nbformat": 4,
 "nbformat_minor": 4
}
